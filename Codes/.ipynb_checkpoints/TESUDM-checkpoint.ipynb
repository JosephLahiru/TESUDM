{
 "cells": [
  {
   "cell_type": "code",
   "execution_count": 1,
   "metadata": {},
   "outputs": [],
   "source": [
    "import tkinter as tk\n",
    "from PIL import Image, ImageTk\n",
    "import cv2, os\n",
    "from tkinter import filedialog"
   ]
  },
  {
   "cell_type": "code",
   "execution_count": 2,
   "metadata": {},
   "outputs": [],
   "source": [
    "topx, topy, botx, boty = 0, 0, 0, 0\n",
    "rect_id = None"
   ]
  },
  {
   "cell_type": "code",
   "execution_count": 3,
   "metadata": {},
   "outputs": [],
   "source": [
    "def mouse_st_XY(event):\n",
    "    global topy, topx\n",
    "    topx, topy = event.x, event.y\n",
    "\n",
    "def mouse_ed_XY(event):\n",
    "    global rect_id, canvas\n",
    "    global topy, topx, botx, boty\n",
    "    botx, boty = event.x, event.y\n",
    "    canvas.coords(rect_id, topx, topy, botx, boty)\n",
    "    \n",
    "def calculate_capture_data(ch):\n",
    "    global topy, topx, botx, boty\n",
    "    sub_img = cvimg[topy:boty, topx:botx]\n",
    "    cv2.imwrite(\"../Res/outputData/img.jpg\", sub_img)\n",
    "    \n",
    "def read_img(plan_path):\n",
    "    global img, cvimg, canvas, canvas\n",
    "    img = ImageTk.PhotoImage(Image.open(plan_path))\n",
    "    cvimg = cv2.imread(plan_path)\n",
    "\n",
    "def exit():\n",
    "    global root, window, add_file_win\n",
    "    try:\n",
    "        root.deiconify()\n",
    "        add_file_win.destroy()\n",
    "        window.destroy()\n",
    "    except Exception as e:\n",
    "        print(e)"
   ]
  },
  {
   "cell_type": "code",
   "execution_count": 4,
   "metadata": {},
   "outputs": [],
   "source": [
    "def add_file():\n",
    "    \n",
    "    global add_file_win, img_plan, render_plan\n",
    "    \n",
    "    add_file_win.filename =  filedialog.askopenfilename(initialdir = \"/\",title = \"Select file\",filetypes = ((\"jpeg files\",\"*.jpg\"),(\"all files\",\"*.*\")))\n",
    "    \n",
    "    render_plan = ImageTk.PhotoImage(Image.open(add_file_win.filename))\n",
    "    img_plan = tk.Label(add_file_win, image=render_plan)\n",
    "    img_plan.grid(column=1, row=2, pady=(10, 5), padx=10, columnspan=4)\n",
    "    \n",
    "    comfirm = tk.Label(add_file_win, text=\"Comfirm The Image : \", font=(\"Arial Bold\", 14))\n",
    "    comfirm.grid(column=1, row=3, pady=(5, 5), padx=5)\n",
    "    \n",
    "    yes_button = tk.Button(add_file_win, text=\"Yes\", bg=\"green\", fg=\"White\", font=(\"Arial Bold\", 14), bd=0, command=third_page)\n",
    "    yes_button.grid(column=2, row=3, pady=(5, 5), padx=5)\n",
    "    \n",
    "    no_button = tk.Button(add_file_win, text=\"No\", bg=\"red\", fg=\"White\", font=(\"Arial Bold\", 14), bd=0, command=add_file)\n",
    "    no_button.grid(column=3, row=3, pady=(5, 5), padx=5)"
   ]
  },
  {
   "cell_type": "code",
   "execution_count": 5,
   "metadata": {},
   "outputs": [],
   "source": [
    "def second_page():\n",
    "    global add_file_win, root, img_plan, render_plan\n",
    "    \n",
    "    root.withdraw()\n",
    "    \n",
    "    add_file_win = tk.Toplevel()\n",
    "    add_file_win.title(\"Take-off and Estimating Software\")\n",
    "    add_file_win.configure(background='white')\n",
    "    \n",
    "    add_button = tk.Button(add_file_win, text=\"Add File\", bg=\"red\", fg=\"White\", font=(\"Arial Bold\", 14), bd=0, command=add_file)\n",
    "    add_button.grid(column=1, row=1, pady=(5, 5), padx=40)"
   ]
  },
  {
   "cell_type": "code",
   "execution_count": 6,
   "metadata": {},
   "outputs": [],
   "source": [
    "def third_page():\n",
    "    \n",
    "    global add_file_win\n",
    "    \n",
    "    add_file_win.withdraw()\n",
    "    \n",
    "    selection = tk.Toplevel()\n",
    "    selection.title(\"Take-off and Estimating Software\")\n",
    "    selection.configure(background='white')\n",
    "    \n",
    "    service = tk.Label(selection, text=\"Please Select a Service\\n------------------------\", bg=\"white\", fg=\"blue\", font=(\"Arial Bold\", 14))\n",
    "    service.grid(column=1, row=1, pady=(5, 5), padx=20)\n",
    "    \n",
    "    op1 = tk.Button(selection, text=\"Anti-termite treatment\", bg=\"blue\", fg=\"White\", font=(\"Arial Bold\", 14), bd=0, command=anti_termite)\n",
    "    op1.grid(column=1, row=2, pady=(5, 5), padx=20)\n",
    "    \n",
    "    op2 = tk.Button(selection, text=\"Rooms, Living areas and other\", bg=\"blue\", fg=\"White\", font=(\"Arial Bold\", 14), bd=0, command=lambda:fourth_page(0))\n",
    "    op2.grid(column=1, row=3, pady=(5, 5), padx=20)\n",
    "    \n",
    "    op3 = tk.Button(selection, text=\"Bathrooms\", bg=\"blue\", fg=\"White\", font=(\"Arial Bold\", 14), bd=0, command=lambda:fourth_page(1))\n",
    "    op3.grid(column=1, row=4, pady=(5, 5), padx=(20))\n",
    "    "
   ]
  },
  {
   "cell_type": "code",
   "execution_count": 7,
   "metadata": {},
   "outputs": [],
   "source": [
    "def fourth_page(ch):\n",
    "    \n",
    "    if(ch==1):\n",
    "        cho = \"Bathrooms\"\n",
    "    else:\n",
    "        cho = \"Rooms, Living areas and other\"\n",
    "    \n",
    "    global render_plan, rect_id, topx, topy, botx, boty, canvas, root, window, add_file_win\n",
    "    print (add_file_win.filename)\n",
    "    \n",
    "    read_img(add_file_win.filename)\n",
    "    \n",
    "    calculate = tk.Toplevel()\n",
    "    calculate.title(\"Take-off and Estimating Software\")\n",
    "    calculate.configure(background='white')\n",
    "\n",
    "    Logo = tk.Label(calculate, text=f\"{cho}\", font=(\"Arial Bold\", 22), bg=\"white\", fg=\"blue\")\n",
    "    canvas = tk.Canvas(calculate, width=img.width(), height=img.height(), borderwidth=0, highlightthickness=0)\n",
    "    canvas.create_image(0, 0, image=render_plan, anchor=tk.NW)\n",
    "    rect_id = canvas.create_rectangle(topx, topy, topx, topy, dash=(8, 8), fill='', outline='black')\n",
    "\n",
    "    canvas.bind('<Button-1>', mouse_st_XY)\n",
    "    canvas.bind('<B1-Motion>', mouse_ed_XY)\n",
    "\n",
    "    calculate_button = tk.Button(calculate, text=\"Calculate\", bg=\"blue\", fg=\"White\", font=(\"Arial Bold\", 14), bd=0, command=lambda:calculate_capture_data(ch))\n",
    "    close_button = tk.Button(calculate, text=\"Exit\", bg=\"red\", fg=\"White\", font=(\"Arial Bold\", 14), bd=0, command=exit)\n",
    "\n",
    "    Logo.grid(column=1, row=0, pady=(20, 0), columnspan = 6)\n",
    "    canvas.grid(column=1, row=1, padx=40, pady=(15, 30), columnspan = 6)\n",
    "    calculate_button.grid(column=1, row=2, pady=(0, 20), padx=2)\n",
    "    close_button.grid(column=6, row=2, pady=(0, 20), padx=2)"
   ]
  },
  {
   "cell_type": "code",
   "execution_count": 8,
   "metadata": {},
   "outputs": [],
   "source": [
    "def anti_termite():\n",
    "    termite = tk.Toplevel()\n",
    "    calculate.title(\"Take-off and Estimating Software\")\n",
    "    calculate.configure(background='white')\n",
    "    \n",
    "    infolab = tk.Label(termite, text=\"Please Enter the Height\\nand With of the House\\n------------------------\", bg=\"white\", fg=\"blue\", font=(\"Arial Bold\", 14))\n",
    "    "
   ]
  },
  {
   "cell_type": "code",
   "execution_count": 9,
   "metadata": {},
   "outputs": [
    {
     "name": "stdout",
     "output_type": "stream",
     "text": [
      "G:/plan0.jpg\n",
      "name 'window' is not defined\n",
      "G:/plan0.jpg\n"
     ]
    },
    {
     "name": "stderr",
     "output_type": "stream",
     "text": [
      "Exception in Tkinter callback\n",
      "Traceback (most recent call last):\n",
      "  File \"F:\\anaconda3\\lib\\tkinter\\__init__.py\", line 1883, in __call__\n",
      "    return self.func(*args)\n",
      "  File \"<ipython-input-7-e91c1095e186>\", line 25, in <lambda>\n",
      "    calculate_button = tk.Button(calculate, text=\"Calculate\", bg=\"blue\", fg=\"White\", font=(\"Arial Bold\", 14), bd=0, command=lambda:calculate_capture_data(ch))\n",
      "  File \"<ipython-input-3-eea30dcf42da>\", line 14, in calculate_capture_data\n",
      "    cv2.imwrite(\"../Res/outputData/img.jpg\", sub_img)\n",
      "cv2.error: OpenCV(4.5.1) C:\\Users\\appveyor\\AppData\\Local\\Temp\\1\\pip-req-build-kh7iq4w7\\opencv\\modules\\imgcodecs\\src\\loadsave.cpp:753: error: (-215:Assertion failed) !_img.empty() in function 'cv::imwrite'\n",
      "\n"
     ]
    }
   ],
   "source": [
    "root = tk.Tk()\n",
    "\n",
    "root.title(\"Take-off and Estimating Software\")\n",
    "root.configure(background='white')\n",
    "\n",
    "Logo = tk.Label(root, text=\"Welcome to the Sri Lanka’s\\nfirst ever take-off and estimating\\nSoftware\", font=(\"Arial Bold\", 22), bg=\"white\", fg=\"blue\")\n",
    "Logo.grid(column=1, row=0, pady=(20, 0), columnspan = 6)\n",
    "\n",
    "render = ImageTk.PhotoImage(Image.open(\"../Res/imgs/bg/logo_img.png\"))\n",
    "imgg = tk.Label(root, image=render)\n",
    "imgg.grid(column=1, row=2, pady=(10, 5), padx=20)\n",
    "\n",
    "estimate_button = tk.Button(root, text=\"Start Estimate\", bg=\"red\", fg=\"White\", font=(\"Arial Bold\", 14), bd=0, command=second_page)\n",
    "#close_button = tk.Button(root, text=\"Exit\", height=2, width=20, command=root.destroy)\n",
    "\n",
    "estimate_button.grid(column=1, row=3, pady=(5, 15), padx=20)\n",
    "#close_button.grid(column=1, row=4, pady=(7, 20))\n",
    "\n",
    "root.mainloop()"
   ]
  },
  {
   "cell_type": "code",
   "execution_count": null,
   "metadata": {},
   "outputs": [],
   "source": []
  }
 ],
 "metadata": {
  "kernelspec": {
   "display_name": "Python 3",
   "language": "python",
   "name": "python3"
  },
  "language_info": {
   "codemirror_mode": {
    "name": "ipython",
    "version": 3
   },
   "file_extension": ".py",
   "mimetype": "text/x-python",
   "name": "python",
   "nbconvert_exporter": "python",
   "pygments_lexer": "ipython3",
   "version": "3.8.5"
  }
 },
 "nbformat": 4,
 "nbformat_minor": 4
}
