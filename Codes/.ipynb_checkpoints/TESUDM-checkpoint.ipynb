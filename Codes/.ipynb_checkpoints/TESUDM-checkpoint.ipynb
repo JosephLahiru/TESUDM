{
 "cells": [
  {
   "cell_type": "code",
   "execution_count": 1,
   "metadata": {},
   "outputs": [],
   "source": [
    "import tkinter as tk\n",
    "from PIL import Image, ImageTk\n",
    "import cv2"
   ]
  },
  {
   "cell_type": "code",
   "execution_count": 2,
   "metadata": {},
   "outputs": [],
   "source": [
    "WIDTH, HEIGHT = 900, 900\n",
    "topx, topy, botx, boty = 0, 0, 0, 0\n",
    "rect_id = None\n",
    "path = \"../Res/imgs/book.jpg\""
   ]
  },
  {
   "cell_type": "code",
   "execution_count": 3,
   "metadata": {},
   "outputs": [],
   "source": [
    "def mouse_st_XY(event):\n",
    "    global topy, topx\n",
    "\n",
    "    topx, topy = event.x, event.y\n",
    "\n",
    "def mouse_ed_XY(event):\n",
    "    global rect_id\n",
    "    global topy, topx, botx, boty\n",
    "\n",
    "    botx, boty = event.x, event.y\n",
    "    canvas.coords(rect_id, topx, topy, botx, boty)\n",
    "    \n",
    "def print_data():\n",
    "    global topy, topx, botx, boty\n",
    "    \n",
    "    sub_img = cvimg[topx:botx, topy:boty]\n",
    "    \n",
    "    cv2.imwrite(\"../Res/outputData/img.jpg\", sub_img)\n",
    "    \n",
    "    print(topx, topy, botx, boty)"
   ]
  },
  {
   "cell_type": "code",
   "execution_count": 4,
   "metadata": {},
   "outputs": [
    {
     "name": "stdout",
     "output_type": "stream",
     "text": [
      "472 209 793 550\n"
     ]
    }
   ],
   "source": [
    "window = tk.Tk()\n",
    "window.title(\"Select Area\")\n",
    "window.geometry('%sx%s' % (WIDTH, HEIGHT))\n",
    "window.configure(background='#696969')\n",
    "\n",
    "img = ImageTk.PhotoImage(Image.open(path))\n",
    "canvas = tk.Canvas(window, width=img.width(), height=img.height(), borderwidth=0, highlightthickness=0)\n",
    "\n",
    "cvimg = cv2.imread(path)\n",
    "\n",
    "canvas.pack(expand=True)\n",
    "canvas.create_image(0, 0, image=img, anchor=tk.NW)\n",
    "\n",
    "rect_id = canvas.create_rectangle(topx, topy, topx, topy, dash=(8,8), fill='', outline='white')\n",
    "\n",
    "canvas.bind('<Button-1>', mouse_st_XY)\n",
    "canvas.bind('<B1-Motion>', mouse_ed_XY)\n",
    "\n",
    "capture_button = tk.Button(window, text=\"capture\", command=print_data)\n",
    "capture_button.pack()\n",
    "\n",
    "window.mainloop()"
   ]
  },
  {
   "cell_type": "code",
   "execution_count": null,
   "metadata": {},
   "outputs": [],
   "source": []
  },
  {
   "cell_type": "code",
   "execution_count": null,
   "metadata": {},
   "outputs": [],
   "source": []
  }
 ],
 "metadata": {
  "kernelspec": {
   "display_name": "Python 3",
   "language": "python",
   "name": "python3"
  },
  "language_info": {
   "codemirror_mode": {
    "name": "ipython",
    "version": 3
   },
   "file_extension": ".py",
   "mimetype": "text/x-python",
   "name": "python",
   "nbconvert_exporter": "python",
   "pygments_lexer": "ipython3",
   "version": "3.8.5"
  }
 },
 "nbformat": 4,
 "nbformat_minor": 4
}
