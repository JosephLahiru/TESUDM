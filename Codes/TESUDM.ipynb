{
 "cells": [
  {
   "cell_type": "code",
   "execution_count": 31,
   "metadata": {},
   "outputs": [],
   "source": [
    "import tkinter as tk\n",
    "\n",
    "from PIL import Image, ImageTk\n",
    "\n",
    "import cv2, os"
   ]
  },
  {
   "cell_type": "code",
   "execution_count": 32,
   "metadata": {},
   "outputs": [
    {
     "name": "stdout",
     "output_type": "stream",
     "text": [
      "['plan0.jpg', 'plan1.jpg', 'plan2.jpg']\n"
     ]
    }
   ],
   "source": [
    "WIDTH, HEIGHT = 900, 700\n",
    "\n",
    "topx, topy, botx, boty = 0, 0, 0, 0\n",
    "\n",
    "rect_id = None\n",
    "\n",
    "path = \"../Res/imgs/plans/\"\n",
    "\n",
    "plans = os.listdir(path)\n",
    "\n",
    "if(len(plans)>0):\n",
    "    print(plans)\n",
    "else:\n",
    "    print(\"[CHECK THE PATH]\\n[PLAN LIST IS EMPTY!!!]\")"
   ]
  },
  {
   "cell_type": "code",
   "execution_count": 33,
   "metadata": {},
   "outputs": [],
   "source": [
    "def mouse_st_XY(event):\n",
    "    \n",
    "    global topy, topx\n",
    "\n",
    "    topx, topy = event.x, event.y\n",
    "\n",
    "    \n",
    "def mouse_ed_XY(event):\n",
    "    \n",
    "    global rect_id\n",
    "    \n",
    "    global topy, topx, botx, boty\n",
    "\n",
    "    botx, boty = event.x, event.y\n",
    "    \n",
    "    canvas.coords(rect_id, topx, topy, botx, boty)\n",
    "    \n",
    "    \n",
    "def capture_data():\n",
    "    \n",
    "    global topy, topx, botx, boty\n",
    "    \n",
    "    sub_img = cvimg[topy:boty, topx:botx]\n",
    "    \n",
    "    cv2.imwrite(\"../Res/outputData/img.jpg\", sub_img)\n",
    "    \n",
    "    print(topx, topy, botx, boty)\n",
    "    \n",
    "def read_img(plan_path):\n",
    "    \n",
    "    global img, cvimg, canvas, canvas\n",
    "    \n",
    "    img = ImageTk.PhotoImage(Image.open(plan_path))\n",
    "\n",
    "    cvimg = cv2.imread(plan_path)\n"
   ]
  },
  {
   "cell_type": "code",
   "execution_count": 34,
   "metadata": {},
   "outputs": [],
   "source": [
    "window = tk.Tk()\n",
    "\n",
    "window.title(\"Select Area\")\n",
    "\n",
    "window.geometry('%sx%s' % (WIDTH, HEIGHT))\n",
    "\n",
    "window.configure(background='#696969')"
   ]
  },
  {
   "cell_type": "code",
   "execution_count": 35,
   "metadata": {},
   "outputs": [
    {
     "name": "stdout",
     "output_type": "stream",
     "text": [
      "179 194 549 562\n"
     ]
    }
   ],
   "source": [
    "read_img(f\"{path}{plans[0]}\")\n",
    "\n",
    "\n",
    "canvas = tk.Canvas(window, width=img.width(), height=img.height(), borderwidth=0, highlightthickness=0)\n",
    "\n",
    "canvas.create_image(0, 0, image=img, anchor=tk.NW)\n",
    "\n",
    "canvas.pack(expand=True)\n",
    "\n",
    "\n",
    "rect_id = canvas.create_rectangle(topx, topy, topx, topy, dash=(8,8), fill='', outline='black')\n",
    "\n",
    "\n",
    "canvas.bind('<Button-1>', mouse_st_XY)\n",
    "\n",
    "canvas.bind('<B1-Motion>', mouse_ed_XY)\n",
    "\n",
    "\n",
    "capture_button = tk.Button(window, text=\"capture\", command=capture_data)\n",
    "\n",
    "capture_button.pack()\n",
    "\n",
    "\n",
    "window.mainloop()"
   ]
  },
  {
   "cell_type": "code",
   "execution_count": null,
   "metadata": {},
   "outputs": [],
   "source": []
  }
 ],
 "metadata": {
  "kernelspec": {
   "display_name": "Python 3",
   "language": "python",
   "name": "python3"
  },
  "language_info": {
   "codemirror_mode": {
    "name": "ipython",
    "version": 3
   },
   "file_extension": ".py",
   "mimetype": "text/x-python",
   "name": "python",
   "nbconvert_exporter": "python",
   "pygments_lexer": "ipython3",
   "version": "3.8.5"
  }
 },
 "nbformat": 4,
 "nbformat_minor": 4
}
