{
 "cells": [
  {
   "cell_type": "code",
   "execution_count": 11,
   "metadata": {},
   "outputs": [],
   "source": [
    "import tkinter as tk\n",
    "from PIL import Image, ImageTk\n",
    "import cv2, os"
   ]
  },
  {
   "cell_type": "code",
   "execution_count": 12,
   "metadata": {},
   "outputs": [
    {
     "name": "stdout",
     "output_type": "stream",
     "text": [
      "['plan0.jpg', 'plan1.jpg', 'plan2.jpg']\n"
     ]
    }
   ],
   "source": [
    "topx, topy, botx, boty = 0, 0, 0, 0\n",
    "rect_id = None\n",
    "path = \"../Res/imgs/plans/\"\n",
    "\n",
    "plans = os.listdir(path)\n",
    "\n",
    "if(len(plans)>0):\n",
    "    print(plans)\n",
    "else:\n",
    "    print(\"[CHECK THE PATH]\\n[PLAN LIST IS EMPTY!!!]\")"
   ]
  },
  {
   "cell_type": "code",
   "execution_count": 13,
   "metadata": {},
   "outputs": [],
   "source": [
    "def mouse_st_XY(event):\n",
    "    global topy, topx\n",
    "    topx, topy = event.x, event.y\n",
    "\n",
    "def mouse_ed_XY(event):\n",
    "    global rect_id, canvas\n",
    "    global topy, topx, botx, boty\n",
    "    botx, boty = event.x, event.y\n",
    "    canvas.coords(rect_id, topx, topy, botx, boty)\n",
    "    \n",
    "def capture_data():\n",
    "    global topy, topx, botx, boty\n",
    "    sub_img = cvimg[topy:boty, topx:botx]\n",
    "    cv2.imwrite(\"../Res/outputData/img.jpg\", sub_img)\n",
    "    \n",
    "def read_img(plan_path):\n",
    "    global img, cvimg, canvas, canvas\n",
    "    img = ImageTk.PhotoImage(Image.open(plan_path))\n",
    "    cvimg = cv2.imread(plan_path)\n",
    "\n",
    "def exit():\n",
    "    global menu, window\n",
    "    menu.deiconify()\n",
    "    window.destroy()"
   ]
  },
  {
   "cell_type": "code",
   "execution_count": 14,
   "metadata": {},
   "outputs": [],
   "source": [
    "def calculate_win(package):\n",
    "    \n",
    "    global path, plans, rect_id, topx, topy, botx, boty, canvas, menu, window\n",
    "    \n",
    "    menu.withdraw()\n",
    "\n",
    "    if(package==1):\n",
    "        package = \"TESUDM BASIC\"\n",
    "    else:\n",
    "        package = \"TESUDM PREMIUM\"\n",
    "        \n",
    "    window = tk.Toplevel()\n",
    "    window.title(f\"{package}\")\n",
    "    window.configure(background='#696969')\n",
    "    \n",
    "    read_img(f\"{path}{plans[0]}\")\n",
    "\n",
    "    Logo = tk.Label(window, text=f\"{package}\", font=(\"Arial Bold\", 32), bg=\"#696969\", fg=\"white\")\n",
    "    canvas = tk.Canvas(window, width=img.width(), height=img.height(), borderwidth=0, highlightthickness=0)\n",
    "    canvas.create_image(0, 0, image=img, anchor=tk.NW)\n",
    "    rect_id = canvas.create_rectangle(topx, topy, topx, topy, dash=(8, 8), fill='', outline='black')\n",
    "\n",
    "    canvas.bind('<Button-1>', mouse_st_XY)\n",
    "    canvas.bind('<B1-Motion>', mouse_ed_XY)\n",
    "\n",
    "    capture_button = tk.Button(window, text=\"Capture\", height=2, width=20, command=capture_data)\n",
    "    next_button = tk.Button(window, text=\"Next\", height=2, width=20)\n",
    "    close_button = tk.Button(window, text=\"Exit\", height=2, width=20, command=exit)\n",
    "\n",
    "    Logo.grid(column=1, row=0, pady=(20, 0), columnspan = 6)\n",
    "    canvas.grid(column=1, row=1, padx=40, pady=(20, 40), columnspan = 6)\n",
    "    capture_button.grid(column=1, row=2, pady=(0, 40), padx=2)\n",
    "    next_button.grid(column=2, row=2, pady=(0, 40), padx=2)\n",
    "    close_button.grid(column=3, row=2, pady=(0, 40), padx=2)"
   ]
  },
  {
   "cell_type": "code",
   "execution_count": 15,
   "metadata": {},
   "outputs": [
    {
     "name": "stdout",
     "output_type": "stream",
     "text": [
      "pkg = TESUDM PREMIUM\n",
      "pkg = TESUDM BASIC\n"
     ]
    },
    {
     "ename": "KeyboardInterrupt",
     "evalue": "",
     "output_type": "error",
     "traceback": [
      "\u001b[1;31m---------------------------------------------------------------------------\u001b[0m",
      "\u001b[1;31mKeyboardInterrupt\u001b[0m                         Traceback (most recent call last)",
      "\u001b[1;32m<ipython-input-15-1acc89279576>\u001b[0m in \u001b[0;36m<module>\u001b[1;34m\u001b[0m\n\u001b[0;32m     15\u001b[0m \u001b[0mclose_button\u001b[0m\u001b[1;33m.\u001b[0m\u001b[0mgrid\u001b[0m\u001b[1;33m(\u001b[0m\u001b[0mcolumn\u001b[0m\u001b[1;33m=\u001b[0m\u001b[1;36m1\u001b[0m\u001b[1;33m,\u001b[0m \u001b[0mrow\u001b[0m\u001b[1;33m=\u001b[0m\u001b[1;36m4\u001b[0m\u001b[1;33m,\u001b[0m \u001b[0mpady\u001b[0m\u001b[1;33m=\u001b[0m\u001b[1;33m(\u001b[0m\u001b[1;36m7\u001b[0m\u001b[1;33m,\u001b[0m \u001b[1;36m20\u001b[0m\u001b[1;33m)\u001b[0m\u001b[1;33m)\u001b[0m\u001b[1;33m\u001b[0m\u001b[1;33m\u001b[0m\u001b[0m\n\u001b[0;32m     16\u001b[0m \u001b[1;33m\u001b[0m\u001b[0m\n\u001b[1;32m---> 17\u001b[1;33m \u001b[0mmenu\u001b[0m\u001b[1;33m.\u001b[0m\u001b[0mmainloop\u001b[0m\u001b[1;33m(\u001b[0m\u001b[1;33m)\u001b[0m\u001b[1;33m\u001b[0m\u001b[1;33m\u001b[0m\u001b[0m\n\u001b[0m",
      "\u001b[1;32mF:\\anaconda3\\lib\\tkinter\\__init__.py\u001b[0m in \u001b[0;36mmainloop\u001b[1;34m(self, n)\u001b[0m\n\u001b[0;32m   1418\u001b[0m     \u001b[1;32mdef\u001b[0m \u001b[0mmainloop\u001b[0m\u001b[1;33m(\u001b[0m\u001b[0mself\u001b[0m\u001b[1;33m,\u001b[0m \u001b[0mn\u001b[0m\u001b[1;33m=\u001b[0m\u001b[1;36m0\u001b[0m\u001b[1;33m)\u001b[0m\u001b[1;33m:\u001b[0m\u001b[1;33m\u001b[0m\u001b[1;33m\u001b[0m\u001b[0m\n\u001b[0;32m   1419\u001b[0m         \u001b[1;34m\"\"\"Call the mainloop of Tk.\"\"\"\u001b[0m\u001b[1;33m\u001b[0m\u001b[1;33m\u001b[0m\u001b[0m\n\u001b[1;32m-> 1420\u001b[1;33m         \u001b[0mself\u001b[0m\u001b[1;33m.\u001b[0m\u001b[0mtk\u001b[0m\u001b[1;33m.\u001b[0m\u001b[0mmainloop\u001b[0m\u001b[1;33m(\u001b[0m\u001b[0mn\u001b[0m\u001b[1;33m)\u001b[0m\u001b[1;33m\u001b[0m\u001b[1;33m\u001b[0m\u001b[0m\n\u001b[0m\u001b[0;32m   1421\u001b[0m \u001b[1;33m\u001b[0m\u001b[0m\n\u001b[0;32m   1422\u001b[0m     \u001b[1;32mdef\u001b[0m \u001b[0mquit\u001b[0m\u001b[1;33m(\u001b[0m\u001b[0mself\u001b[0m\u001b[1;33m)\u001b[0m\u001b[1;33m:\u001b[0m\u001b[1;33m\u001b[0m\u001b[1;33m\u001b[0m\u001b[0m\n",
      "\u001b[1;31mKeyboardInterrupt\u001b[0m: "
     ]
    }
   ],
   "source": [
    "menu = tk.Tk()\n",
    "\n",
    "menu.title(\"TESUDM MENU\")\n",
    "menu.configure(background='#696969')\n",
    "\n",
    "Logo = tk.Label(menu, text=\"TESUDM\", font=(\"Arial Bold\", 32), bg=\"#696969\", fg=\"white\")\n",
    "Logo.grid(column=1, row=0, pady=(20, 0), columnspan = 6)\n",
    "\n",
    "premium_button = tk.Button(menu, text=\"Premium\", height=2, width=20, command=lambda:calculate_win(0))\n",
    "basic_button = tk.Button(menu, text=\"Basic\", height=2, width=20, command=lambda:calculate_win(1))\n",
    "close_button = tk.Button(menu, text=\"Exit\", height=2, width=20, command=menu.destroy)\n",
    "\n",
    "premium_button.grid(column=1, row=2, pady=(10, 5))\n",
    "basic_button.grid(column=1, row=3, pady=(5, 5), padx=60)\n",
    "close_button.grid(column=1, row=4, pady=(7, 20))\n",
    "\n",
    "menu.mainloop()"
   ]
  },
  {
   "cell_type": "code",
   "execution_count": null,
   "metadata": {},
   "outputs": [],
   "source": []
  }
 ],
 "metadata": {
  "kernelspec": {
   "display_name": "Python 3",
   "language": "python",
   "name": "python3"
  },
  "language_info": {
   "codemirror_mode": {
    "name": "ipython",
    "version": 3
   },
   "file_extension": ".py",
   "mimetype": "text/x-python",
   "name": "python",
   "nbconvert_exporter": "python",
   "pygments_lexer": "ipython3",
   "version": "3.8.5"
  }
 },
 "nbformat": 4,
 "nbformat_minor": 4
}
